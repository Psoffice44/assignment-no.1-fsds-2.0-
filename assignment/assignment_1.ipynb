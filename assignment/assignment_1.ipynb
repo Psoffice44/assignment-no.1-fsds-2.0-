{
  "nbformat": 4,
  "nbformat_minor": 0,
  "metadata": {
    "colab": {
      "provenance": []
    },
    "kernelspec": {
      "name": "python3",
      "display_name": "Python 3"
    },
    "language_info": {
      "name": "python"
    }
  },
  "cells": [
    {
      "cell_type": "markdown",
      "source": [
        "#find out all the types of error that we have encountered in our lacture and why? also include example.\n"
      ],
      "metadata": {
        "id": "X02tEmKrEJwa"
      }
    },
    {
      "cell_type": "markdown",
      "source": [
        "*1.) for case sensitivity:*    \n",
        "\n",
        "*name error*"
      ],
      "metadata": {
        "id": "djkZQhBCEjRE"
      }
    },
    {
      "cell_type": "code",
      "source": [
        "name= aman\n",
        "Name= Aman\n",
        "print(\"NAME\")"
      ],
      "metadata": {
        "colab": {
          "base_uri": "https://localhost:8080/",
          "height": 208
        },
        "id": "UmpWgw8eErFe",
        "outputId": "e4b04268-9848-4768-ee6e-cd65ddd48d14"
      },
      "execution_count": 2,
      "outputs": [
        {
          "output_type": "error",
          "ename": "NameError",
          "evalue": "ignored",
          "traceback": [
            "\u001b[0;31m---------------------------------------------------------------------------\u001b[0m",
            "\u001b[0;31mNameError\u001b[0m                                 Traceback (most recent call last)",
            "\u001b[0;32m<ipython-input-2-ad15c0832a61>\u001b[0m in \u001b[0;36m<module>\u001b[0;34m\u001b[0m\n\u001b[0;32m----> 1\u001b[0;31m \u001b[0mname\u001b[0m\u001b[0;34m=\u001b[0m \u001b[0maman\u001b[0m\u001b[0;34m\u001b[0m\u001b[0;34m\u001b[0m\u001b[0m\n\u001b[0m\u001b[1;32m      2\u001b[0m \u001b[0mName\u001b[0m\u001b[0;34m=\u001b[0m \u001b[0mAman\u001b[0m\u001b[0;34m\u001b[0m\u001b[0;34m\u001b[0m\u001b[0m\n\u001b[1;32m      3\u001b[0m \u001b[0mprint\u001b[0m\u001b[0;34m(\u001b[0m\u001b[0;34m\"NAME\"\u001b[0m\u001b[0;34m)\u001b[0m\u001b[0;34m\u001b[0m\u001b[0;34m\u001b[0m\u001b[0m\n",
            "\u001b[0;31mNameError\u001b[0m: name 'aman' is not defined"
          ]
        }
      ]
    },
    {
      "cell_type": "markdown",
      "source": [
        "*2.) if we make reserve words as veriable it will show us an error*\n",
        "\n",
        "\n",
        "*2.1) it will only concatinate string to string*\n",
        "\n",
        "*type error*\n"
      ],
      "metadata": {
        "id": "zTnw61aJFbIq"
      }
    },
    {
      "cell_type": "code",
      "source": [
        "\"day\"+1"
      ],
      "metadata": {
        "colab": {
          "base_uri": "https://localhost:8080/",
          "height": 171
        },
        "id": "8bZ9vO2aGiR7",
        "outputId": "5c1d078c-c866-4622-84db-3b20ab35dff2"
      },
      "execution_count": 3,
      "outputs": [
        {
          "output_type": "error",
          "ename": "TypeError",
          "evalue": "ignored",
          "traceback": [
            "\u001b[0;31m---------------------------------------------------------------------------\u001b[0m",
            "\u001b[0;31mTypeError\u001b[0m                                 Traceback (most recent call last)",
            "\u001b[0;32m<ipython-input-3-d18e34b3e48d>\u001b[0m in \u001b[0;36m<module>\u001b[0;34m\u001b[0m\n\u001b[0;32m----> 1\u001b[0;31m \u001b[0;34m\"day\"\u001b[0m\u001b[0;34m+\u001b[0m\u001b[0;36m1\u001b[0m\u001b[0;34m\u001b[0m\u001b[0;34m\u001b[0m\u001b[0m\n\u001b[0m",
            "\u001b[0;31mTypeError\u001b[0m: can only concatenate str (not \"int\") to str"
          ]
        }
      ]
    },
    {
      "cell_type": "markdown",
      "source": [
        "*3) syntex error*\n",
        "\n",
        "*it occurs when code is written in incorrect format*"
      ],
      "metadata": {
        "id": "H5CYi7D-Xnp9"
      }
    },
    {
      "cell_type": "code",
      "source": [
        "print(\"hello world\""
      ],
      "metadata": {
        "colab": {
          "base_uri": "https://localhost:8080/",
          "height": 135
        },
        "id": "VW-Ii1yfH91t",
        "outputId": "aae221c6-0336-4174-f019-40dd786a1add"
      },
      "execution_count": 4,
      "outputs": [
        {
          "output_type": "error",
          "ename": "SyntaxError",
          "evalue": "ignored",
          "traceback": [
            "\u001b[0;36m  File \u001b[0;32m\"<ipython-input-4-fe69f65f3ba9>\"\u001b[0;36m, line \u001b[0;32m1\u001b[0m\n\u001b[0;31m    print(\"hello world\"\u001b[0m\n\u001b[0m                       ^\u001b[0m\n\u001b[0;31mSyntaxError\u001b[0m\u001b[0;31m:\u001b[0m unexpected EOF while parsing\n"
          ]
        }
      ]
    },
    {
      "cell_type": "markdown",
      "source": [
        "*4.) indentation error*\n",
        "\n",
        "*it occured when we forgot to provide space in a sequencial manner( it means statement is not allign properly*"
      ],
      "metadata": {
        "id": "RcyrnZU7I2Lw"
      }
    },
    {
      "cell_type": "code",
      "source": [
        "raining = False\n",
        "if raining:\n",
        "print(\"let's do work from home\")\n",
        "else:\n",
        "  print(\"let's go to office\")"
      ],
      "metadata": {
        "colab": {
          "base_uri": "https://localhost:8080/",
          "height": 135
        },
        "id": "jd84myKPJSGR",
        "outputId": "93378c79-fe35-4931-f237-d4ec638d2ced"
      },
      "execution_count": 5,
      "outputs": [
        {
          "output_type": "error",
          "ename": "IndentationError",
          "evalue": "ignored",
          "traceback": [
            "\u001b[0;36m  File \u001b[0;32m\"<ipython-input-5-400646751ef4>\"\u001b[0;36m, line \u001b[0;32m3\u001b[0m\n\u001b[0;31m    print(\"let's do work from home\")\u001b[0m\n\u001b[0m    ^\u001b[0m\n\u001b[0;31mIndentationError\u001b[0m\u001b[0;31m:\u001b[0m expected an indented block\n"
          ]
        }
      ]
    },
    {
      "cell_type": "markdown",
      "source": [
        "*5.)  value error*\n",
        "\n",
        "\n",
        "*we should be carefull while putting data type as well as data type variable* "
      ],
      "metadata": {
        "id": "uAS60SGVJwsx"
      }
    },
    {
      "cell_type": "code",
      "source": [
        "A= int(input(\"enter the value of A: \"))\n",
        "B= float(input(\"enter the value of B: \"))\n",
        "print(f\"enter the sum of {A+B}\")"
      ],
      "metadata": {
        "colab": {
          "base_uri": "https://localhost:8080/",
          "height": 226
        },
        "id": "mwTSZjgiVlwx",
        "outputId": "93c3b294-a12d-4039-c0f8-daf272e3a305"
      },
      "execution_count": 9,
      "outputs": [
        {
          "name": "stdout",
          "output_type": "stream",
          "text": [
            "enter the value of A: 10.2\n"
          ]
        },
        {
          "output_type": "error",
          "ename": "ValueError",
          "evalue": "ignored",
          "traceback": [
            "\u001b[0;31m---------------------------------------------------------------------------\u001b[0m",
            "\u001b[0;31mValueError\u001b[0m                                Traceback (most recent call last)",
            "\u001b[0;32m<ipython-input-9-8d9657b6a568>\u001b[0m in \u001b[0;36m<module>\u001b[0;34m\u001b[0m\n\u001b[0;32m----> 1\u001b[0;31m \u001b[0mA\u001b[0m\u001b[0;34m=\u001b[0m \u001b[0mint\u001b[0m\u001b[0;34m(\u001b[0m\u001b[0minput\u001b[0m\u001b[0;34m(\u001b[0m\u001b[0;34m\"enter the value of A: \"\u001b[0m\u001b[0;34m)\u001b[0m\u001b[0;34m)\u001b[0m\u001b[0;34m\u001b[0m\u001b[0;34m\u001b[0m\u001b[0m\n\u001b[0m\u001b[1;32m      2\u001b[0m \u001b[0mB\u001b[0m\u001b[0;34m=\u001b[0m \u001b[0mfloat\u001b[0m\u001b[0;34m(\u001b[0m\u001b[0minput\u001b[0m\u001b[0;34m(\u001b[0m\u001b[0;34m\"enter the value of B: \"\u001b[0m\u001b[0;34m)\u001b[0m\u001b[0;34m)\u001b[0m\u001b[0;34m\u001b[0m\u001b[0;34m\u001b[0m\u001b[0m\n\u001b[1;32m      3\u001b[0m \u001b[0mprint\u001b[0m\u001b[0;34m(\u001b[0m\u001b[0;34mf\"enter the sum of {A+B}\"\u001b[0m\u001b[0;34m)\u001b[0m\u001b[0;34m\u001b[0m\u001b[0;34m\u001b[0m\u001b[0m\n",
            "\u001b[0;31mValueError\u001b[0m: invalid literal for int() with base 10: '10.2'"
          ]
        }
      ]
    },
    {
      "cell_type": "markdown",
      "source": [
        "#Take input A and B and print their sum , multiplication, division, squares of the numbers\n"
      ],
      "metadata": {
        "id": "UMqPfC9TYaze"
      }
    },
    {
      "cell_type": "code",
      "source": [
        "A=int(input(\"enter the value of A: \"))\n",
        "B=int(input(\"enter the value of B: \"))\n",
        "print(f\"multiplication of A and B is {A*B}: \")\n"
      ],
      "metadata": {
        "colab": {
          "base_uri": "https://localhost:8080/"
        },
        "id": "3FIJXbLBZXGn",
        "outputId": "9dad8094-75db-4d4b-8e86-cf35ba8d7e79"
      },
      "execution_count": 14,
      "outputs": [
        {
          "output_type": "stream",
          "name": "stdout",
          "text": [
            "enter the value of A: 4\n",
            "enter the value of B: 5\n",
            "multiplication of A and B is 20: \n"
          ]
        }
      ]
    },
    {
      "cell_type": "code",
      "source": [
        "A=int(input(\"enter the value of A: \"))\n",
        "B=int(input(\"enter the value of B: \"))\n",
        "print(f\"addition of A and B is {A+B}: \")\n"
      ],
      "metadata": {
        "colab": {
          "base_uri": "https://localhost:8080/"
        },
        "outputId": "d55bec61-fad8-48f8-a72c-bd35a9a4a310",
        "id": "CoUeswtgbI-u"
      },
      "execution_count": 15,
      "outputs": [
        {
          "output_type": "stream",
          "name": "stdout",
          "text": [
            "enter the value of A: 5\n",
            "enter the value of B: 6\n",
            "addition of A and B is 11: \n"
          ]
        }
      ]
    },
    {
      "cell_type": "code",
      "source": [],
      "metadata": {
        "id": "n2Qu4feUZUQp"
      },
      "execution_count": null,
      "outputs": []
    },
    {
      "cell_type": "code",
      "source": [
        "A=int(input(\"enter the value of A: \"))\n",
        "B=int(input(\"enter the value of B: \"))\n",
        "print(f\"division of A and B is {A/B}: \")\n"
      ],
      "metadata": {
        "colab": {
          "base_uri": "https://localhost:8080/"
        },
        "outputId": "f02c1045-bfd5-4b6f-f01f-65e7982c38a7",
        "id": "Mpwd9MtJbdR-"
      },
      "execution_count": 16,
      "outputs": [
        {
          "output_type": "stream",
          "name": "stdout",
          "text": [
            "enter the value of A: 4\n",
            "enter the value of B: 2\n",
            "division of A and B is 2.0: \n"
          ]
        }
      ]
    },
    {
      "cell_type": "code",
      "source": [
        "A=int(input(\"enter the value of A: \"))\n",
        "B=int(input(\"enter the value of B: \"))\n",
        "print(f\"square of A is {A**2} and B is{B**2}: \")"
      ],
      "metadata": {
        "colab": {
          "base_uri": "https://localhost:8080/"
        },
        "id": "t8FaFmx-brHp",
        "outputId": "497b188f-9f68-4ad2-902e-fbb53d0f64a7"
      },
      "execution_count": 17,
      "outputs": [
        {
          "output_type": "stream",
          "name": "stdout",
          "text": [
            "enter the value of A: 4\n",
            "enter the value of B: 5\n",
            "square of A is 16 and B is25: \n"
          ]
        }
      ]
    },
    {
      "cell_type": "markdown",
      "source": [
        "# How many reserve keywords are there and why we should not use them as a variable name"
      ],
      "metadata": {
        "id": "mWBXjDgdccpc"
      }
    },
    {
      "cell_type": "markdown",
      "source": [
        "*the following reserve keywords are as follows:* \n",
        "\n",
        "*for | if |   def | raise |  none | del | import | return*\n",
        "\n",
        "\n",
        "\n",
        "*true | elif  | int | try*\n",
        "\n",
        "\n",
        "\n",
        "*end | else |is | while*\n",
        "\n",
        "\n",
        "\n",
        "*as | except lamda | with*\n",
        "\n",
        "\n",
        "\n",
        "*assert | finally | nonlocal | yield*\n",
        "\n",
        "\n",
        "\n",
        "*break | for  | not*\n",
        "\n",
        "\n",
        "\n",
        "*class | from  | or*\n",
        "\n",
        "\n",
        "\n",
        "*continue | global | pass*"
      ],
      "metadata": {
        "id": "g2d8kmlrdJck"
      }
    },
    {
      "cell_type": "markdown",
      "source": [
        "#create email ids with the user input in the following format lastname.frontname@gmail.com"
      ],
      "metadata": {
        "id": "rlWgHDm-f0GV"
      }
    },
    {
      "cell_type": "code",
      "source": [
        "fname=str(input(\"what's your first name: \"))\n",
        "lname=str(input(\"what's  your last name: \"))\n",
        "print(f\"my email id is:{lname}.{fname}@gmail.com\")"
      ],
      "metadata": {
        "colab": {
          "base_uri": "https://localhost:8080/"
        },
        "id": "1kR-SPiGgI1d",
        "outputId": "39ce4d47-8dd3-4be8-f2d6-9177c49f77ae"
      },
      "execution_count": 19,
      "outputs": [
        {
          "output_type": "stream",
          "name": "stdout",
          "text": [
            "what's your first name: pawan\n",
            "what's  your last name: sharma\n",
            "my email id is:sharma.pawan@gmail.com\n"
          ]
        }
      ]
    },
    {
      "cell_type": "markdown",
      "source": [
        "# try to print the followin lines: \n",
        "\n",
        "*hi i'm Aman*\n",
        "\n",
        "\n",
        "*my address is 22/ 36*\n",
        "\n",
        "\n",
        "*i earn 20 dollars daily*"
      ],
      "metadata": {
        "id": "Wvv4cN8vhlL0"
      }
    },
    {
      "cell_type": "code",
      "source": [
        "name=str(input(\"what's your name: \"))\n",
        "address=str(input(\"what's your address: \"))\n",
        "earning=str(input(\"what's your earning: \"))\n",
        "print(f\"\"\" hi i'm {name},\n",
        " my address is {address},\n",
        " i earn {earning} $ daily\"\"\")"
      ],
      "metadata": {
        "colab": {
          "base_uri": "https://localhost:8080/"
        },
        "id": "YofcewiFiIne",
        "outputId": "dba9b410-f892-4072-e866-64dd960a60d8"
      },
      "execution_count": 29,
      "outputs": [
        {
          "output_type": "stream",
          "name": "stdout",
          "text": [
            "what's your name: pawan\n",
            "what's your address: 22/36\n",
            "what's your earning: 20\n",
            " hi i'm pawan,\n",
            " my address is 22/36,\n",
            " i earn 20 $ daily\n"
          ]
        }
      ]
    },
    {
      "cell_type": "markdown",
      "source": [
        "# Take user input to fill a form for your college and print their email ids"
      ],
      "metadata": {
        "id": "QMaZAZKGnLcZ"
      }
    },
    {
      "cell_type": "code",
      "source": [
        "name=str(input(\"what's your name: \"))\n",
        "address=str(input(\"what's your address: \"))\n",
        "dob=str(input(\"what's your dob: \"))\n",
        "email=\"@gmail.com\"\n",
        "print(f\"\"\" hi i'm {name},\n",
        " my address is {address},\n",
        " my dob is {dob},\n",
        " my email id is {name}.{email}\"\"\")"
      ],
      "metadata": {
        "colab": {
          "base_uri": "https://localhost:8080/"
        },
        "id": "bfa2jLbhlBSJ",
        "outputId": "fdb7436c-fed7-44c1-b6e4-753698587b7c"
      },
      "execution_count": 34,
      "outputs": [
        {
          "output_type": "stream",
          "name": "stdout",
          "text": [
            "what's your name: pawan\n",
            "what's your address: 22/36\n",
            "what's your dob: 4/apr/1996\n",
            " hi i'm pawan,\n",
            " my address is 22/36,\n",
            " my dob is 4/apr/1996,\n",
            " my email id is pawan.@gmail.com\n"
          ]
        }
      ]
    },
    {
      "cell_type": "markdown",
      "source": [],
      "metadata": {
        "id": "s68ZSk0jnqPY"
      }
    }
  ]
}